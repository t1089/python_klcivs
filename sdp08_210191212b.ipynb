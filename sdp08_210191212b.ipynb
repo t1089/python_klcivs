{
 "cells": [
  {
   "cell_type": "code",
   "execution_count": 10,
   "metadata": {},
   "outputs": [
    {
     "name": "stdout",
     "output_type": "stream",
     "text": [
      "<class 'float'>\n",
      "1\n",
      "3\n",
      "64\n"
     ]
    }
   ],
   "source": [
    "#108年12月12日\n",
    "aa=123.1  # 123 (int 整數) ;123.1 (float 浮點數)  ;'123.1' (str 字串)\n",
    "print(type(aa))\n",
    "a=8\n",
    "b=5\n",
    "print(a//b)  #  //取商 \n",
    "print(a%b)   #  % 取餘數   \n",
    "print(a**2)  #  ** 次方"
   ]
  },
  {
   "cell_type": "markdown",
   "metadata": {},
   "source": [
    "## 串列  [ ]\n",
    "###  有順序性的資料"
   ]
  },
  {
   "cell_type": "code",
   "execution_count": 3,
   "metadata": {},
   "outputs": [
    {
     "name": "stdout",
     "output_type": "stream",
     "text": [
      "1\n",
      "2\n",
      "3\n",
      "a\n",
      "b\n"
     ]
    }
   ],
   "source": [
    "# 串列;有順序性的資料\n",
    "aa=[1,2,3,'a','b']  #a1=1,a2=2,a3=3,a4='a',a5='b'\n",
    "aa[0]\n",
    "len(aa)\n",
    "# for 變數 in 對象:    (對象:range()或串列list或字典dict或字串str等)\n",
    "# 重覆結構\n",
    "for i in aa:  #迭代:逐一取出，例如抽牌一般，一張一張的抽出，每張牌命名為i   \n",
    "    print(i)"
   ]
  },
  {
   "cell_type": "markdown",
   "metadata": {},
   "source": [
    "## 字典  { }\n",
    "###  無順序性 ; 成對 (key:value) (鍵:值)  鍵值對"
   ]
  },
  {
   "cell_type": "code",
   "execution_count": 4,
   "metadata": {},
   "outputs": [
    {
     "name": "stdout",
     "output_type": "stream",
     "text": [
      "a --> apple\n",
      "c --> car\n",
      "3 --> True\n",
      "d --> dog\n"
     ]
    }
   ],
   "source": [
    "#\n",
    "d1={'a':'apple','c':'car',3:True}\n",
    "# print(d1['a'])      # 取出鍵「'a'」的值， 「'apple'」\n",
    "# print(d1.keys())    # 所有的鍵集合 ['a','c',3]\n",
    "# print(d1.values())  # 所有的值集合 ['apple','car',True]\n",
    "d1['d']='dog'         # 若鍵「'd'」不存在，則產生新的鍵值對\n",
    "for i in d1:\n",
    "    print(i,'-->',d1[i])"
   ]
  },
  {
   "cell_type": "code",
   "execution_count": 6,
   "metadata": {},
   "outputs": [],
   "source": [
    "import requests  # 程式庫:向http提出請求，回傳網頁內容\n",
    "import json\n",
    "url='http://csfexam.csf.org.tw:3000/IN2/tp_restaurant.json'\n",
    "res=requests.get(url)\n",
    "jj=json.loads(res.text)\n",
    "#print(res.text)"
   ]
  },
  {
   "cell_type": "code",
   "execution_count": 27,
   "metadata": {
    "scrolled": true
   },
   "outputs": [
    {
     "data": {
      "text/plain": [
       "dict_keys(['歐陸', '日韓', '中華', '美墨', '南洋'])"
      ]
     },
     "execution_count": 27,
     "metadata": {},
     "output_type": "execute_result"
    }
   ],
   "source": [
    "jj.keys()"
   ]
  },
  {
   "cell_type": "code",
   "execution_count": 8,
   "metadata": {},
   "outputs": [
    {
     "name": "stdout",
     "output_type": "stream",
     "text": [
      "92水鳥\n",
      "ANTICO FORNO 老烤箱義式手桿披薩\n",
      "Botega del vin\n",
      "Cova Taiwan\n",
      "EL AMOR 西班亞 TAPAS & BAR\n",
      "HESTIA-西班牙小酒館\n",
      "Hidden by DN 隱丹廚\n",
      "Howfun Paella Bar & Bistro好飯食堂\n",
      "Jamie's Italian\n",
      "JAPOLI義大利餐酒館\n",
      "L’origine La Credenza歐傑洛義式餐廳\n",
      "LA CAJA DE MUSICA樂盒子\n",
      "La Cocotte 法式餐廳\n",
      "La Lupa Classic 經典母狼\n",
      "La MESA 西班牙餐廳\n",
      "La Piola Cucina Italiana\n",
      "La Querida小情人\n",
      "Le Blanc\n",
      "LuLu義大利餐廳\n",
      "MVSA Spanish Restaurant & Bar沐紗西班牙餐廳\n",
      "Orchid Restaurant 蘭\n",
      "Origines\n",
      "Osteria by Angie\n",
      "PURO PURO西班牙傳統海鮮料理餐廳\n",
      "Puti Puti\n",
      "RAW\n",
      "S Hotel-HYG 北歐美饌\n",
      "Solo Pasta\n",
      "Solo Pizza Napoletana\n",
      "Tairroir 態芮\n",
      "Woolloomooloo(西門店)\n",
      "巴獅子德國餐廳\n",
      "台北西華飯店-Toscana義大利餐廳\n",
      "台北君悅酒店-寶艾西餐廳\n",
      "台北亞都麗緻大飯店-巴黎廳1930 \n",
      "台北亞都麗緻大飯店-巴賽麗廳\n",
      "台北文華東方酒店-BENCOTTO\n",
      "台北松山意舍酒店-Que 原木燒烤餐廳\n",
      "台北喜來登大飯店比薩屋\n",
      "台北寒舍艾美酒店-探索廚房\n",
      "台北晶華酒店-Robin's 鐵板燒\n",
      "行冊Walkingbook\n",
      "沾美西餐廳\n",
      "金色三麥(誠品信義店)\n",
      "哈古小館\n",
      "香格里拉台北遠東國際大飯店-馬可波羅餐廳(Marco Polo)\n",
      "雅室牛排館\n",
      "新帆船澳門葡國餐廳Restaurante Vela Latina\n",
      "溫德德式烘焙餐廳\n",
      "歐華酒店-地中海牛排館\n",
      "賦樂旅居-TK Seafood & Steak\n",
      "豐舍\n"
     ]
    }
   ],
   "source": [
    "for i in jj['歐陸']:\n",
    "    print(i['餐廳名稱'])"
   ]
  }
 ],
 "metadata": {
  "kernelspec": {
   "display_name": "Python 3",
   "language": "python",
   "name": "python3"
  },
  "language_info": {
   "codemirror_mode": {
    "name": "ipython",
    "version": 3
   },
   "file_extension": ".py",
   "mimetype": "text/x-python",
   "name": "python",
   "nbconvert_exporter": "python",
   "pygments_lexer": "ipython3",
   "version": "3.6.4"
  }
 },
 "nbformat": 4,
 "nbformat_minor": 2
}
